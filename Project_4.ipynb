{
 "cells": [
  {
   "cell_type": "markdown",
   "id": "b95c39b2",
   "metadata": {},
   "source": [
    "# Project 4 - Online Purchase Intent\n",
    "\n",
    "by 23AIML056_Kavya"
   ]
  },
  {
   "cell_type": "markdown",
   "id": "c937800a",
   "metadata": {},
   "source": [
    "## Preprocessing"
   ]
  },
  {
   "cell_type": "code",
   "execution_count": 56,
   "id": "fcbdb6fe",
   "metadata": {},
   "outputs": [],
   "source": [
    "# Importing necessary libraries\n",
    "import numpy as np\n",
    "import pandas as pd\n",
    "import seaborn as sns\n",
    "import matplotlib.pyplot as plt\n",
    "from sklearn.linear_model import LogisticRegression\n",
    "from sklearn.ensemble import RandomForestClassifier\n",
    "from sklearn.tree import DecisionTreeClassifier\n",
    "from sklearn.neighbors import KNeighborsClassifier\n",
    "from sklearn.preprocessing import StandardScaler, LabelEncoder\n",
    "from sklearn.model_selection import train_test_split, cross_val_score\n",
    "from sklearn.decomposition import PCA\n",
    "from sklearn.metrics import *\n",
    "from imblearn.over_sampling import SMOTE"
   ]
  },
  {
   "cell_type": "code",
   "execution_count": 57,
   "id": "ce20ef8d",
   "metadata": {},
   "outputs": [
    {
     "data": {
      "application/vnd.microsoft.datawrangler.viewer.v0+json": {
       "columns": [
        {
         "name": "index",
         "rawType": "int64",
         "type": "integer"
        },
        {
         "name": "Administrative",
         "rawType": "int64",
         "type": "integer"
        },
        {
         "name": "Administrative_Duration",
         "rawType": "float64",
         "type": "float"
        },
        {
         "name": "Informational",
         "rawType": "int64",
         "type": "integer"
        },
        {
         "name": "Informational_Duration",
         "rawType": "float64",
         "type": "float"
        },
        {
         "name": "ProductRelated",
         "rawType": "int64",
         "type": "integer"
        },
        {
         "name": "ProductRelated_Duration",
         "rawType": "float64",
         "type": "float"
        },
        {
         "name": "BounceRates",
         "rawType": "float64",
         "type": "float"
        },
        {
         "name": "ExitRates",
         "rawType": "float64",
         "type": "float"
        },
        {
         "name": "PageValues",
         "rawType": "float64",
         "type": "float"
        },
        {
         "name": "SpecialDay",
         "rawType": "float64",
         "type": "float"
        },
        {
         "name": "Month",
         "rawType": "object",
         "type": "string"
        },
        {
         "name": "OperatingSystems",
         "rawType": "int64",
         "type": "integer"
        },
        {
         "name": "Browser",
         "rawType": "int64",
         "type": "integer"
        },
        {
         "name": "Region",
         "rawType": "int64",
         "type": "integer"
        },
        {
         "name": "TrafficType",
         "rawType": "int64",
         "type": "integer"
        },
        {
         "name": "VisitorType",
         "rawType": "object",
         "type": "string"
        },
        {
         "name": "Weekend",
         "rawType": "bool",
         "type": "boolean"
        },
        {
         "name": "Revenue",
         "rawType": "bool",
         "type": "boolean"
        }
       ],
       "ref": "8ab9264e-1df9-4402-87c3-6f323b8fa44e",
       "rows": [
        [
         "0",
         "0",
         "0.0",
         "0",
         "0.0",
         "1",
         "0.0",
         "0.2",
         "0.2",
         "0.0",
         "0.0",
         "Feb",
         "1",
         "1",
         "1",
         "1",
         "Returning_Visitor",
         "False",
         "False"
        ],
        [
         "1",
         "0",
         "0.0",
         "0",
         "0.0",
         "2",
         "64.0",
         "0.0",
         "0.1",
         "0.0",
         "0.0",
         "Feb",
         "2",
         "2",
         "1",
         "2",
         "Returning_Visitor",
         "False",
         "False"
        ],
        [
         "2",
         "0",
         "0.0",
         "0",
         "0.0",
         "1",
         "0.0",
         "0.2",
         "0.2",
         "0.0",
         "0.0",
         "Feb",
         "4",
         "1",
         "9",
         "3",
         "Returning_Visitor",
         "False",
         "False"
        ],
        [
         "3",
         "0",
         "0.0",
         "0",
         "0.0",
         "2",
         "2.666666667",
         "0.05",
         "0.14",
         "0.0",
         "0.0",
         "Feb",
         "3",
         "2",
         "2",
         "4",
         "Returning_Visitor",
         "False",
         "False"
        ],
        [
         "4",
         "0",
         "0.0",
         "0",
         "0.0",
         "10",
         "627.5",
         "0.02",
         "0.05",
         "0.0",
         "0.0",
         "Feb",
         "3",
         "3",
         "1",
         "4",
         "Returning_Visitor",
         "True",
         "False"
        ]
       ],
       "shape": {
        "columns": 18,
        "rows": 5
       }
      },
      "text/html": [
       "<div>\n",
       "<style scoped>\n",
       "    .dataframe tbody tr th:only-of-type {\n",
       "        vertical-align: middle;\n",
       "    }\n",
       "\n",
       "    .dataframe tbody tr th {\n",
       "        vertical-align: top;\n",
       "    }\n",
       "\n",
       "    .dataframe thead th {\n",
       "        text-align: right;\n",
       "    }\n",
       "</style>\n",
       "<table border=\"1\" class=\"dataframe\">\n",
       "  <thead>\n",
       "    <tr style=\"text-align: right;\">\n",
       "      <th></th>\n",
       "      <th>Administrative</th>\n",
       "      <th>Administrative_Duration</th>\n",
       "      <th>Informational</th>\n",
       "      <th>Informational_Duration</th>\n",
       "      <th>ProductRelated</th>\n",
       "      <th>ProductRelated_Duration</th>\n",
       "      <th>BounceRates</th>\n",
       "      <th>ExitRates</th>\n",
       "      <th>PageValues</th>\n",
       "      <th>SpecialDay</th>\n",
       "      <th>Month</th>\n",
       "      <th>OperatingSystems</th>\n",
       "      <th>Browser</th>\n",
       "      <th>Region</th>\n",
       "      <th>TrafficType</th>\n",
       "      <th>VisitorType</th>\n",
       "      <th>Weekend</th>\n",
       "      <th>Revenue</th>\n",
       "    </tr>\n",
       "  </thead>\n",
       "  <tbody>\n",
       "    <tr>\n",
       "      <th>0</th>\n",
       "      <td>0</td>\n",
       "      <td>0.0</td>\n",
       "      <td>0</td>\n",
       "      <td>0.0</td>\n",
       "      <td>1</td>\n",
       "      <td>0.000000</td>\n",
       "      <td>0.20</td>\n",
       "      <td>0.20</td>\n",
       "      <td>0.0</td>\n",
       "      <td>0.0</td>\n",
       "      <td>Feb</td>\n",
       "      <td>1</td>\n",
       "      <td>1</td>\n",
       "      <td>1</td>\n",
       "      <td>1</td>\n",
       "      <td>Returning_Visitor</td>\n",
       "      <td>False</td>\n",
       "      <td>False</td>\n",
       "    </tr>\n",
       "    <tr>\n",
       "      <th>1</th>\n",
       "      <td>0</td>\n",
       "      <td>0.0</td>\n",
       "      <td>0</td>\n",
       "      <td>0.0</td>\n",
       "      <td>2</td>\n",
       "      <td>64.000000</td>\n",
       "      <td>0.00</td>\n",
       "      <td>0.10</td>\n",
       "      <td>0.0</td>\n",
       "      <td>0.0</td>\n",
       "      <td>Feb</td>\n",
       "      <td>2</td>\n",
       "      <td>2</td>\n",
       "      <td>1</td>\n",
       "      <td>2</td>\n",
       "      <td>Returning_Visitor</td>\n",
       "      <td>False</td>\n",
       "      <td>False</td>\n",
       "    </tr>\n",
       "    <tr>\n",
       "      <th>2</th>\n",
       "      <td>0</td>\n",
       "      <td>0.0</td>\n",
       "      <td>0</td>\n",
       "      <td>0.0</td>\n",
       "      <td>1</td>\n",
       "      <td>0.000000</td>\n",
       "      <td>0.20</td>\n",
       "      <td>0.20</td>\n",
       "      <td>0.0</td>\n",
       "      <td>0.0</td>\n",
       "      <td>Feb</td>\n",
       "      <td>4</td>\n",
       "      <td>1</td>\n",
       "      <td>9</td>\n",
       "      <td>3</td>\n",
       "      <td>Returning_Visitor</td>\n",
       "      <td>False</td>\n",
       "      <td>False</td>\n",
       "    </tr>\n",
       "    <tr>\n",
       "      <th>3</th>\n",
       "      <td>0</td>\n",
       "      <td>0.0</td>\n",
       "      <td>0</td>\n",
       "      <td>0.0</td>\n",
       "      <td>2</td>\n",
       "      <td>2.666667</td>\n",
       "      <td>0.05</td>\n",
       "      <td>0.14</td>\n",
       "      <td>0.0</td>\n",
       "      <td>0.0</td>\n",
       "      <td>Feb</td>\n",
       "      <td>3</td>\n",
       "      <td>2</td>\n",
       "      <td>2</td>\n",
       "      <td>4</td>\n",
       "      <td>Returning_Visitor</td>\n",
       "      <td>False</td>\n",
       "      <td>False</td>\n",
       "    </tr>\n",
       "    <tr>\n",
       "      <th>4</th>\n",
       "      <td>0</td>\n",
       "      <td>0.0</td>\n",
       "      <td>0</td>\n",
       "      <td>0.0</td>\n",
       "      <td>10</td>\n",
       "      <td>627.500000</td>\n",
       "      <td>0.02</td>\n",
       "      <td>0.05</td>\n",
       "      <td>0.0</td>\n",
       "      <td>0.0</td>\n",
       "      <td>Feb</td>\n",
       "      <td>3</td>\n",
       "      <td>3</td>\n",
       "      <td>1</td>\n",
       "      <td>4</td>\n",
       "      <td>Returning_Visitor</td>\n",
       "      <td>True</td>\n",
       "      <td>False</td>\n",
       "    </tr>\n",
       "  </tbody>\n",
       "</table>\n",
       "</div>"
      ],
      "text/plain": [
       "   Administrative  Administrative_Duration  Informational  \\\n",
       "0               0                      0.0              0   \n",
       "1               0                      0.0              0   \n",
       "2               0                      0.0              0   \n",
       "3               0                      0.0              0   \n",
       "4               0                      0.0              0   \n",
       "\n",
       "   Informational_Duration  ProductRelated  ProductRelated_Duration  \\\n",
       "0                     0.0               1                 0.000000   \n",
       "1                     0.0               2                64.000000   \n",
       "2                     0.0               1                 0.000000   \n",
       "3                     0.0               2                 2.666667   \n",
       "4                     0.0              10               627.500000   \n",
       "\n",
       "   BounceRates  ExitRates  PageValues  SpecialDay Month  OperatingSystems  \\\n",
       "0         0.20       0.20         0.0         0.0   Feb                 1   \n",
       "1         0.00       0.10         0.0         0.0   Feb                 2   \n",
       "2         0.20       0.20         0.0         0.0   Feb                 4   \n",
       "3         0.05       0.14         0.0         0.0   Feb                 3   \n",
       "4         0.02       0.05         0.0         0.0   Feb                 3   \n",
       "\n",
       "   Browser  Region  TrafficType        VisitorType  Weekend  Revenue  \n",
       "0        1       1            1  Returning_Visitor    False    False  \n",
       "1        2       1            2  Returning_Visitor    False    False  \n",
       "2        1       9            3  Returning_Visitor    False    False  \n",
       "3        2       2            4  Returning_Visitor    False    False  \n",
       "4        3       1            4  Returning_Visitor     True    False  "
      ]
     },
     "execution_count": 57,
     "metadata": {},
     "output_type": "execute_result"
    }
   ],
   "source": [
    "# Importing the dataset\n",
    "df = pd.read_csv(\"D:\\\\Datasets\\\\online_shoppers_intention.csv\")\n",
    "df.head()"
   ]
  },
  {
   "cell_type": "code",
   "execution_count": 58,
   "id": "7a43eadb",
   "metadata": {},
   "outputs": [
    {
     "data": {
      "text/plain": [
       "(12330, 18)"
      ]
     },
     "execution_count": 58,
     "metadata": {},
     "output_type": "execute_result"
    }
   ],
   "source": [
    "df.shape"
   ]
  },
  {
   "cell_type": "code",
   "execution_count": 59,
   "id": "947bc93b",
   "metadata": {},
   "outputs": [
    {
     "name": "stdout",
     "output_type": "stream",
     "text": [
      "<class 'pandas.core.frame.DataFrame'>\n",
      "RangeIndex: 12330 entries, 0 to 12329\n",
      "Data columns (total 18 columns):\n",
      " #   Column                   Non-Null Count  Dtype  \n",
      "---  ------                   --------------  -----  \n",
      " 0   Administrative           12330 non-null  int64  \n",
      " 1   Administrative_Duration  12330 non-null  float64\n",
      " 2   Informational            12330 non-null  int64  \n",
      " 3   Informational_Duration   12330 non-null  float64\n",
      " 4   ProductRelated           12330 non-null  int64  \n",
      " 5   ProductRelated_Duration  12330 non-null  float64\n",
      " 6   BounceRates              12330 non-null  float64\n",
      " 7   ExitRates                12330 non-null  float64\n",
      " 8   PageValues               12330 non-null  float64\n",
      " 9   SpecialDay               12330 non-null  float64\n",
      " 10  Month                    12330 non-null  object \n",
      " 11  OperatingSystems         12330 non-null  int64  \n",
      " 12  Browser                  12330 non-null  int64  \n",
      " 13  Region                   12330 non-null  int64  \n",
      " 14  TrafficType              12330 non-null  int64  \n",
      " 15  VisitorType              12330 non-null  object \n",
      " 16  Weekend                  12330 non-null  bool   \n",
      " 17  Revenue                  12330 non-null  bool   \n",
      "dtypes: bool(2), float64(7), int64(7), object(2)\n",
      "memory usage: 1.5+ MB\n"
     ]
    }
   ],
   "source": [
    "# Basic Information of the dataset\n",
    "df.info()"
   ]
  },
  {
   "cell_type": "code",
   "execution_count": 60,
   "id": "2d10bf77",
   "metadata": {},
   "outputs": [],
   "source": [
    "# Creating a copy of the DataFrame for transformations, enconding, and scaling\n",
    "df_copy = df.copy(deep=True)"
   ]
  },
  {
   "cell_type": "code",
   "execution_count": 61,
   "id": "6ffd55cb",
   "metadata": {},
   "outputs": [],
   "source": [
    "# Encoding categorical variables\n",
    "le = LabelEncoder()\n",
    "\n",
    "df_copy['Month'] = le.fit_transform(df['Month'])\n",
    "df_copy['VisitorType'] = le.fit_transform(df['VisitorType'])\n",
    "df_copy['Revenue'] = df['Revenue'].astype(int)\n",
    "df_copy['Weekend'] = df['Weekend'].astype(int)"
   ]
  },
  {
   "cell_type": "code",
   "execution_count": 62,
   "id": "643fdd0f",
   "metadata": {},
   "outputs": [
    {
     "name": "stdout",
     "output_type": "stream",
     "text": [
      "<class 'pandas.core.frame.DataFrame'>\n",
      "RangeIndex: 12330 entries, 0 to 12329\n",
      "Data columns (total 18 columns):\n",
      " #   Column                   Non-Null Count  Dtype  \n",
      "---  ------                   --------------  -----  \n",
      " 0   Administrative           12330 non-null  int64  \n",
      " 1   Administrative_Duration  12330 non-null  float64\n",
      " 2   Informational            12330 non-null  int64  \n",
      " 3   Informational_Duration   12330 non-null  float64\n",
      " 4   ProductRelated           12330 non-null  int64  \n",
      " 5   ProductRelated_Duration  12330 non-null  float64\n",
      " 6   BounceRates              12330 non-null  float64\n",
      " 7   ExitRates                12330 non-null  float64\n",
      " 8   PageValues               12330 non-null  float64\n",
      " 9   SpecialDay               12330 non-null  float64\n",
      " 10  Month                    12330 non-null  int64  \n",
      " 11  OperatingSystems         12330 non-null  int64  \n",
      " 12  Browser                  12330 non-null  int64  \n",
      " 13  Region                   12330 non-null  int64  \n",
      " 14  TrafficType              12330 non-null  int64  \n",
      " 15  VisitorType              12330 non-null  int64  \n",
      " 16  Weekend                  12330 non-null  int64  \n",
      " 17  Revenue                  12330 non-null  int64  \n",
      "dtypes: float64(7), int64(11)\n",
      "memory usage: 1.7 MB\n"
     ]
    }
   ],
   "source": [
    "# Basic Information after encoding\n",
    "df_copy.info()"
   ]
  },
  {
   "cell_type": "markdown",
   "id": "0f91a97f",
   "metadata": {},
   "source": [
    "## Machine Learning"
   ]
  },
  {
   "cell_type": "code",
   "execution_count": 63,
   "id": "cb5f8697",
   "metadata": {},
   "outputs": [],
   "source": [
    "# Splitting data into features and target variable\n",
    "X = df_copy.drop(['Revenue'], axis=1)\n",
    "y = df_copy['Revenue']\n",
    "X_train, X_test, y_train, y_test = train_test_split(X, y, test_size=0.2, random_state=42)\n",
    "scaler = StandardScaler()\n",
    "X_train = scaler.fit_transform(X_train)\n",
    "X_test = scaler.transform(X_test)"
   ]
  },
  {
   "cell_type": "markdown",
   "id": "97a0bcbb",
   "metadata": {},
   "source": [
    "### Classification on Non Transformed Data"
   ]
  },
  {
   "cell_type": "code",
   "execution_count": 64,
   "id": "f4ced537",
   "metadata": {},
   "outputs": [
    {
     "name": "stdout",
     "output_type": "stream",
     "text": [
      "\n",
      "Model Comparison Results:\n",
      "                     accuracy       auc\n",
      "Logistic Regression  0.869019  0.877888\n",
      "Random Forest        0.892944  0.922547\n",
      "Decision Tree        0.861719  0.752555\n",
      "K-Nearest Neighbors  0.865369  0.793721\n"
     ]
    }
   ],
   "source": [
    "# Training multiple models and comparing their performance\n",
    "models = {\n",
    "    \"Logistic Regression\": LogisticRegression(),\n",
    "    \"Random Forest\": RandomForestClassifier(),\n",
    "    \"Decision Tree\": DecisionTreeClassifier(),\n",
    "    \"K-Nearest Neighbors\": KNeighborsClassifier(),\n",
    "}\n",
    "\n",
    "results = {}\n",
    "\n",
    "for name, model in models.items():\n",
    "    model.fit(X_train, y_train)\n",
    "    y_pred = model.predict(X_test)\n",
    "    accuracy = accuracy_score(y_test, y_pred)\n",
    "    auc = roc_auc_score(y_test, model.predict_proba(X_test)[:, 1])\n",
    "    results[name] = {\"accuracy\": accuracy, \"auc\": auc}\n",
    "    \n",
    "print(\"\\nModel Comparison Results:\")\n",
    "comparison_df_scaled = pd.DataFrame(results).T\n",
    "print(comparison_df_scaled)"
   ]
  },
  {
   "cell_type": "code",
   "execution_count": 65,
   "id": "7f170907",
   "metadata": {},
   "outputs": [
    {
     "data": {
      "image/png": "[encoded data removed]",
      "text/plain": [
       "<Figure size 1000x600 with 1 Axes>"
      ]
     },
     "metadata": {},
     "output_type": "display_data"
    }
   ],
   "source": [
    "# Plotting the results for simple scaled data\n",
    "comparison_df_scaled.plot(kind=\"bar\", figsize=(10, 6), ylim=(0, 1.05))\n",
    "plt.title(\"Model Accuracy and AUC Comparison (Scaled Data)\")\n",
    "plt.ylabel(\"Score\")\n",
    "plt.xlabel(\"Model\")\n",
    "plt.legend(title=\"Metric\")\n",
    "plt.xticks(rotation=0)\n",
    "plt.show()"
   ]
  },
  {
   "cell_type": "markdown",
   "id": "578550ab",
   "metadata": {},
   "source": [
    "#### Conclusion:\n",
    "\n",
    "- The Random Forest is giving the best results on simple scaled data"
   ]
  },
  {
   "cell_type": "markdown",
   "id": "8af824f6",
   "metadata": {},
   "source": [
    "### PCA Transformed Data"
   ]
  },
  {
   "cell_type": "code",
   "execution_count": 66,
   "id": "a43966bd",
   "metadata": {},
   "outputs": [
    {
     "data": {
      "text/plain": [
       "(9864, 3)"
      ]
     },
     "execution_count": 66,
     "metadata": {},
     "output_type": "execute_result"
    }
   ],
   "source": [
    "# PCA for dimensionality reduction\n",
    "pca = PCA(n_components=3)\n",
    "X_train_pca = pca.fit_transform(X_train)\n",
    "X_test_pca = pca.transform(X_test)\n",
    "X_train_pca.shape"
   ]
  },
  {
   "cell_type": "code",
   "execution_count": 67,
   "id": "707bb7c3",
   "metadata": {},
   "outputs": [
    {
     "name": "stdout",
     "output_type": "stream",
     "text": [
      "\n",
      "Model Comparison Results (PCA Transformed Data):\n",
      "                     accuracy       auc\n",
      "Logistic Regression  0.842255  0.774979\n",
      "Random Forest        0.843877  0.754912\n",
      "Decision Tree        0.764801  0.571776\n",
      "K-Nearest Neighbors  0.832522  0.697217\n"
     ]
    }
   ],
   "source": [
    "# Training multiple models and comparing their performance on PCA-transformed data\n",
    "models_pca = {\n",
    "    \"Logistic Regression\": LogisticRegression(),\n",
    "    \"Random Forest\": RandomForestClassifier(),\n",
    "    \"Decision Tree\": DecisionTreeClassifier(),\n",
    "    \"K-Nearest Neighbors\": KNeighborsClassifier(),\n",
    "}\n",
    "\n",
    "results_pca = {}\n",
    "\n",
    "for name, model in models_pca.items():\n",
    "    model.fit(X_train_pca, y_train)\n",
    "    y_pred = model.predict(X_test_pca)\n",
    "    accuracy = accuracy_score(y_test, y_pred)\n",
    "    auc = roc_auc_score(y_test, model.predict_proba(X_test_pca)[:, 1])\n",
    "    results_pca[name] = {\"accuracy\": accuracy, \"auc\": auc}\n",
    "\n",
    "print(\"\\nModel Comparison Results (PCA Transformed Data):\")\n",
    "comparison_df_pca = pd.DataFrame(results_pca).T\n",
    "print(comparison_df_pca)"
   ]
  },
  {
   "cell_type": "code",
   "execution_count": 68,
   "id": "7a1febd0",
   "metadata": {},
   "outputs": [
    {
     "data": {
      "image/png": "[encoded data removed]",
      "text/plain": [
       "<Figure size 1000x600 with 1 Axes>"
      ]
     },
     "metadata": {},
     "output_type": "display_data"
    }
   ],
   "source": [
    "# Plotting the results for PCA-transformed data\n",
    "comparison_df_pca.plot(kind=\"bar\", figsize=(10, 6), ylim=(0, 1.05))\n",
    "plt.title(\"Model Accuracy and AUC Comparison (PCA Transformed Data)\")\n",
    "plt.ylabel(\"Score\")\n",
    "plt.xlabel(\"Model\")\n",
    "plt.legend(title=\"Metric\")\n",
    "plt.xticks(rotation=0)\n",
    "plt.show()"
   ]
  },
  {
   "cell_type": "markdown",
   "id": "f026ba99",
   "metadata": {},
   "source": [
    "#### Conclusion:\n",
    "\n",
    "- Even on the PCA Transformed Data, the random forest gives the best result\n",
    "- However the PCA Transformed Data is giving worse result than scaled only data"
   ]
  },
  {
   "cell_type": "markdown",
   "id": "d01090f0",
   "metadata": {},
   "source": [
    "### Sampled data"
   ]
  },
  {
   "cell_type": "code",
   "execution_count": 69,
   "id": "61d95085",
   "metadata": {},
   "outputs": [
    {
     "name": "stdout",
     "output_type": "stream",
     "text": [
      "Original training set shape: {0: 8367, 1: 1497}\n",
      "SMOTE training set shape: {0: 8367, 1: 8367}\n"
     ]
    }
   ],
   "source": [
    "# Apply SMOTE to training data\n",
    "smote = SMOTE(random_state=42)\n",
    "X_train_smote, y_train_smote = smote.fit_resample(X_train, y_train)\n",
    "\n",
    "print(\"Original training set shape:\", y_train.value_counts().to_dict())\n",
    "print(\"SMOTE training set shape:\", pd.Series(y_train_smote).value_counts().to_dict())"
   ]
  },
  {
   "cell_type": "code",
   "execution_count": 70,
   "id": "f0e509f0",
   "metadata": {},
   "outputs": [
    {
     "name": "stdout",
     "output_type": "stream",
     "text": [
      "\n",
      "Model Comparison Results (SMOTE Sampled Data):\n",
      "                     accuracy       auc\n",
      "Logistic Regression  0.873074  0.885376\n",
      "Random Forest        0.890105  0.922148\n",
      "Decision Tree        0.846715  0.740633\n",
      "K-Nearest Neighbors  0.777778  0.801241\n"
     ]
    }
   ],
   "source": [
    "# Training multiple models and comparing their performance on SMOTE-sampled data\n",
    "models_smote = {\n",
    "    \"Logistic Regression\": LogisticRegression(),\n",
    "    \"Random Forest\": RandomForestClassifier(),\n",
    "    \"Decision Tree\": DecisionTreeClassifier(),\n",
    "    \"K-Nearest Neighbors\": KNeighborsClassifier(),\n",
    "}\n",
    "\n",
    "results_smote = {}\n",
    "\n",
    "for name, model in models_smote.items():\n",
    "    model.fit(X_train_smote, y_train_smote)\n",
    "    y_pred = model.predict(X_test)\n",
    "    accuracy = accuracy_score(y_test, y_pred)\n",
    "    auc = roc_auc_score(y_test, model.predict_proba(X_test)[:, 1])\n",
    "    results_smote[name] = {\"accuracy\": accuracy, \"auc\": auc}\n",
    "\n",
    "print(\"\\nModel Comparison Results (SMOTE Sampled Data):\")\n",
    "comparison_df_smote = pd.DataFrame(results_smote).T\n",
    "print(comparison_df_smote)"
   ]
  },
  {
   "cell_type": "code",
   "execution_count": 71,
   "id": "4b760ecd",
   "metadata": {},
   "outputs": [
    {
     "data": {
      "image/png": "[encoded data removed]",
      "text/plain": [
       "<Figure size 1000x600 with 1 Axes>"
      ]
     },
     "metadata": {},
     "output_type": "display_data"
    }
   ],
   "source": [
    "# Plotting the results for SMOTE-sampled data\n",
    "comparison_df_smote.plot(kind=\"bar\", figsize=(10, 6), ylim=(0, 1.05))\n",
    "plt.title(\"Model Accuracy and AUC Comparison (SMOTE Sampled Data)\")\n",
    "plt.ylabel(\"Score\")\n",
    "plt.xlabel(\"Model\")\n",
    "plt.legend(title=\"Metric\")\n",
    "plt.xticks(rotation=0)\n",
    "plt.show()"
   ]
  },
  {
   "cell_type": "markdown",
   "id": "f6609e8e",
   "metadata": {},
   "source": [
    "#### Conclusion:\n",
    "\n",
    "- Applying SMOTE to balance the classes improved the performance of some models, especially for minority class prediction.\n",
    "- Random Forest continues to provide the best results on the SMOTE-sampled data.\n",
    "- Overall, SMOTE helps address class imbalance, but the improvement depends on the model and"
   ]
  },
  {
   "cell_type": "markdown",
   "id": "89eaaacf",
   "metadata": {},
   "source": [
    "### SMOTE + Scaled"
   ]
  },
  {
   "cell_type": "code",
   "execution_count": 72,
   "id": "39e331df",
   "metadata": {},
   "outputs": [
    {
     "name": "stdout",
     "output_type": "stream",
     "text": [
      "Original training set shape: {0: 8367, 1: 1497}\n",
      "SMOTE + scaled training set shape: {0: 8367, 1: 8367}\n"
     ]
    }
   ],
   "source": [
    "# Scale features, then apply SMOTE to training data\n",
    "scaler = StandardScaler()\n",
    "X_train_scaled = scaler.fit_transform(X_train)\n",
    "X_test_scaled = scaler.transform(X_test)\n",
    "\n",
    "smote = SMOTE(random_state=42)\n",
    "X_train_scaled_smote, y_train_scaled_smote = smote.fit_resample(X_train_scaled, y_train)\n",
    "\n",
    "print(\"Original training set shape:\", y_train.value_counts().to_dict())\n",
    "print(\n",
    "    \"SMOTE + scaled training set shape:\",\n",
    "    pd.Series(y_train_scaled_smote).value_counts().to_dict(),\n",
    ")"
   ]
  },
  {
   "cell_type": "code",
   "execution_count": 73,
   "id": "6b29c0eb",
   "metadata": {},
   "outputs": [
    {
     "name": "stdout",
     "output_type": "stream",
     "text": [
      "\n",
      "Model Comparison Results (Scaled + SMOTE Data):\n",
      "                     accuracy       auc\n",
      "Logistic Regression  0.873074  0.885376\n",
      "Random Forest        0.890105  0.922297\n",
      "Decision Tree        0.845093  0.745499\n",
      "K-Nearest Neighbors  0.777778  0.801241\n"
     ]
    }
   ],
   "source": [
    "# Training multiple models and comparing their performance on scaled + SMOTE data\n",
    "models_scaled_smote = {\n",
    "    \"Logistic Regression\": LogisticRegression(),\n",
    "    \"Random Forest\": RandomForestClassifier(),\n",
    "    \"Decision Tree\": DecisionTreeClassifier(),\n",
    "    \"K-Nearest Neighbors\": KNeighborsClassifier(),\n",
    "}\n",
    "\n",
    "results_scaled_smote = {}\n",
    "\n",
    "for name, model in models_scaled_smote.items():\n",
    "    model.fit(X_train_scaled_smote, y_train_scaled_smote)\n",
    "    y_pred = model.predict(X_test_scaled)\n",
    "    accuracy = accuracy_score(y_test, y_pred)\n",
    "    auc = roc_auc_score(y_test, model.predict_proba(X_test_scaled)[:, 1])\n",
    "    results_scaled_smote[name] = {\"accuracy\": accuracy, \"auc\": auc}\n",
    "\n",
    "print(\"\\nModel Comparison Results (Scaled + SMOTE Data):\")\n",
    "comparison_df_scaled_smote = pd.DataFrame(results_scaled_smote).T\n",
    "print(comparison_df_scaled_smote)"
   ]
  },
  {
   "cell_type": "code",
   "execution_count": 74,
   "id": "15f31579",
   "metadata": {},
   "outputs": [
    {
     "data": {
      "image/png": "[encoded data removed]",
      "text/plain": [
       "<Figure size 1000x600 with 1 Axes>"
      ]
     },
     "metadata": {},
     "output_type": "display_data"
    }
   ],
   "source": [
    "# Plotting the results for scaled + SMOTE data\n",
    "comparison_df_scaled_smote.plot(kind=\"bar\", figsize=(10, 6), ylim=(0, 1.05))\n",
    "plt.title(\"Model Accuracy and AUC Comparison (Scaled + SMOTE Data)\")\n",
    "plt.ylabel(\"Score\")\n",
    "plt.xlabel(\"Model\")\n",
    "plt.legend(title=\"Metric\")\n",
    "plt.xticks(rotation=0)\n",
    "plt.show()"
   ]
  },
  {
   "cell_type": "markdown",
   "id": "1030ed22",
   "metadata": {},
   "source": [
    "#### Conclusion:\n",
    "\n",
    "- Combining scaling with SMOTE provided the most balanced and robust performance across all models.\n",
    "- This approach further improved minority class prediction without sacrificing overall accuracy.\n",
    "- Random Forest remained the top-performing model, demonstrating strong results on the scaled and"
   ]
  },
  {
   "cell_type": "markdown",
   "id": "af75be40",
   "metadata": {},
   "source": [
    "### Conclusion:\n",
    "\n",
    "- Among all four approaches (scaled data, PCA-transformed data, SMOTE-sampled data, and SMOTE + Scaled data), the Random Forest classifier consistently provided the best results in terms of both accuracy and AUC.\n",
    "- Scaling the data improved model performance compared to using raw features, while PCA-based dimensionality reduction led to a decrease in performance, likely due to information loss from reducing the number of features.\n",
    "- Applying SMOTE to balance the classes helped improve the performance of some models, especially for the minority class, but the best results were achieved when combining both scaling and SMOTE.\n",
    "- The combination of scaling and SMOTE (SMOTE + Scaled) provided the most balanced and robust performance across all models, further improving minority class prediction without sacrificing overall accuracy.\n",
    "- In summary, proper preprocessing—especially scaling and handling class imbalance with SMOTE—significantly enhances model performance, and ensemble methods like Random Forest are robust choices for this"
   ]
  }
 ],
 "metadata": {
  "kernelspec": {
   "display_name": "Python 3",
   "language": "python",
   "name": "python3"
  },
  "language_info": {
   "codemirror_mode": {
    "name": "ipython",
    "version": 3
   },
   "file_extension": ".py",
   "mimetype": "text/x-python",
   "name": "python",
   "nbconvert_exporter": "python",
   "pygments_lexer": "ipython3",
   "version": "3.10.6"
  }
 },
 "nbformat": 4,
 "nbformat_minor": 5
}
