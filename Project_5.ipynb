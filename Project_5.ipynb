{
 "cells": [
  {
   "cell_type": "markdown",
   "id": "a2607e63",
   "metadata": {},
   "source": [
    "# Project 5 - Advertisment Budget using Linear Regression\n",
    "\n",
    "by 23AIML056_Kavya"
   ]
  },
  {
   "cell_type": "code",
   "execution_count": 1,
   "id": "c301040a",
   "metadata": {},
   "outputs": [],
   "source": [
    "import numpy as np\n",
    "import matplotlib.pyplot as plt\n",
    "import pandas as pd\n",
    "import seaborn as sns\n",
    "from sklearn.model_selection import train_test_split\n",
    "from sklearn.metrics import *\n",
    "from sklearn.linear_model import LinearRegression\n",
    "from sklearn.preprocessing import StandardScaler"
   ]
  },
  {
   "cell_type": "markdown",
   "id": "1f9a8f4a",
   "metadata": {},
   "source": [
    "## Data Preprocessing"
   ]
  },
  {
   "cell_type": "code",
   "execution_count": 2,
   "id": "bcdd6d62",
   "metadata": {},
   "outputs": [
    {
     "data": {
      "application/vnd.microsoft.datawrangler.viewer.v0+json": {
       "columns": [
        {
         "name": "index",
         "rawType": "int64",
         "type": "integer"
        },
        {
         "name": "Unnamed: 0",
         "rawType": "int64",
         "type": "integer"
        },
        {
         "name": "TV Ad Budget ($)",
         "rawType": "float64",
         "type": "float"
        },
        {
         "name": "Radio Ad Budget ($)",
         "rawType": "float64",
         "type": "float"
        },
        {
         "name": "Newspaper Ad Budget ($)",
         "rawType": "float64",
         "type": "float"
        },
        {
         "name": "Sales ($)",
         "rawType": "float64",
         "type": "float"
        }
       ],
       "ref": "5b6bb521-d6f6-4f7b-8106-cc38b0852344",
       "rows": [
        [
         "0",
         "1",
         "230.1",
         "37.8",
         "69.2",
         "22.1"
        ],
        [
         "1",
         "2",
         "44.5",
         "39.3",
         "45.1",
         "10.4"
        ],
        [
         "2",
         "3",
         "17.2",
         "45.9",
         "69.3",
         "9.3"
        ],
        [
         "3",
         "4",
         "151.5",
         "41.3",
         "58.5",
         "18.5"
        ],
        [
         "4",
         "5",
         "180.8",
         "10.8",
         "58.4",
         "12.9"
        ]
       ],
       "shape": {
        "columns": 5,
        "rows": 5
       }
      },
      "text/html": [
       "<div>\n",
       "<style scoped>\n",
       "    .dataframe tbody tr th:only-of-type {\n",
       "        vertical-align: middle;\n",
       "    }\n",
       "\n",
       "    .dataframe tbody tr th {\n",
       "        vertical-align: top;\n",
       "    }\n",
       "\n",
       "    .dataframe thead th {\n",
       "        text-align: right;\n",
       "    }\n",
       "</style>\n",
       "<table border=\"1\" class=\"dataframe\">\n",
       "  <thead>\n",
       "    <tr style=\"text-align: right;\">\n",
       "      <th></th>\n",
       "      <th>Unnamed: 0</th>\n",
       "      <th>TV Ad Budget ($)</th>\n",
       "      <th>Radio Ad Budget ($)</th>\n",
       "      <th>Newspaper Ad Budget ($)</th>\n",
       "      <th>Sales ($)</th>\n",
       "    </tr>\n",
       "  </thead>\n",
       "  <tbody>\n",
       "    <tr>\n",
       "      <th>0</th>\n",
       "      <td>1</td>\n",
       "      <td>230.1</td>\n",
       "      <td>37.8</td>\n",
       "      <td>69.2</td>\n",
       "      <td>22.1</td>\n",
       "    </tr>\n",
       "    <tr>\n",
       "      <th>1</th>\n",
       "      <td>2</td>\n",
       "      <td>44.5</td>\n",
       "      <td>39.3</td>\n",
       "      <td>45.1</td>\n",
       "      <td>10.4</td>\n",
       "    </tr>\n",
       "    <tr>\n",
       "      <th>2</th>\n",
       "      <td>3</td>\n",
       "      <td>17.2</td>\n",
       "      <td>45.9</td>\n",
       "      <td>69.3</td>\n",
       "      <td>9.3</td>\n",
       "    </tr>\n",
       "    <tr>\n",
       "      <th>3</th>\n",
       "      <td>4</td>\n",
       "      <td>151.5</td>\n",
       "      <td>41.3</td>\n",
       "      <td>58.5</td>\n",
       "      <td>18.5</td>\n",
       "    </tr>\n",
       "    <tr>\n",
       "      <th>4</th>\n",
       "      <td>5</td>\n",
       "      <td>180.8</td>\n",
       "      <td>10.8</td>\n",
       "      <td>58.4</td>\n",
       "      <td>12.9</td>\n",
       "    </tr>\n",
       "  </tbody>\n",
       "</table>\n",
       "</div>"
      ],
      "text/plain": [
       "   Unnamed: 0  TV Ad Budget ($)  Radio Ad Budget ($)  Newspaper Ad Budget ($)  \\\n",
       "0           1             230.1                 37.8                     69.2   \n",
       "1           2              44.5                 39.3                     45.1   \n",
       "2           3              17.2                 45.9                     69.3   \n",
       "3           4             151.5                 41.3                     58.5   \n",
       "4           5             180.8                 10.8                     58.4   \n",
       "\n",
       "   Sales ($)  \n",
       "0       22.1  \n",
       "1       10.4  \n",
       "2        9.3  \n",
       "3       18.5  \n",
       "4       12.9  "
      ]
     },
     "execution_count": 2,
     "metadata": {},
     "output_type": "execute_result"
    }
   ],
   "source": [
    "df = pd.read_csv(\"D:\\\\Datasets\\\\AdvertisingBudgetAndSales.csv\")\n",
    "df.head()"
   ]
  },
  {
   "cell_type": "markdown",
   "id": "e5c91b2c",
   "metadata": {},
   "source": [
    "unnamed: 0 is just a serial number column so we can safely drop it"
   ]
  },
  {
   "cell_type": "code",
   "execution_count": 3,
   "id": "0b106b6c",
   "metadata": {},
   "outputs": [
    {
     "data": {
      "application/vnd.microsoft.datawrangler.viewer.v0+json": {
       "columns": [
        {
         "name": "index",
         "rawType": "int64",
         "type": "integer"
        },
        {
         "name": "TV Ad Budget ($)",
         "rawType": "float64",
         "type": "float"
        },
        {
         "name": "Radio Ad Budget ($)",
         "rawType": "float64",
         "type": "float"
        },
        {
         "name": "Newspaper Ad Budget ($)",
         "rawType": "float64",
         "type": "float"
        },
        {
         "name": "Sales ($)",
         "rawType": "float64",
         "type": "float"
        }
       ],
       "ref": "be6187ea-29d6-400d-88dc-05a77875a029",
       "rows": [
        [
         "0",
         "230.1",
         "37.8",
         "69.2",
         "22.1"
        ],
        [
         "1",
         "44.5",
         "39.3",
         "45.1",
         "10.4"
        ],
        [
         "2",
         "17.2",
         "45.9",
         "69.3",
         "9.3"
        ],
        [
         "3",
         "151.5",
         "41.3",
         "58.5",
         "18.5"
        ],
        [
         "4",
         "180.8",
         "10.8",
         "58.4",
         "12.9"
        ]
       ],
       "shape": {
        "columns": 4,
        "rows": 5
       }
      },
      "text/html": [
       "<div>\n",
       "<style scoped>\n",
       "    .dataframe tbody tr th:only-of-type {\n",
       "        vertical-align: middle;\n",
       "    }\n",
       "\n",
       "    .dataframe tbody tr th {\n",
       "        vertical-align: top;\n",
       "    }\n",
       "\n",
       "    .dataframe thead th {\n",
       "        text-align: right;\n",
       "    }\n",
       "</style>\n",
       "<table border=\"1\" class=\"dataframe\">\n",
       "  <thead>\n",
       "    <tr style=\"text-align: right;\">\n",
       "      <th></th>\n",
       "      <th>TV Ad Budget ($)</th>\n",
       "      <th>Radio Ad Budget ($)</th>\n",
       "      <th>Newspaper Ad Budget ($)</th>\n",
       "      <th>Sales ($)</th>\n",
       "    </tr>\n",
       "  </thead>\n",
       "  <tbody>\n",
       "    <tr>\n",
       "      <th>0</th>\n",
       "      <td>230.1</td>\n",
       "      <td>37.8</td>\n",
       "      <td>69.2</td>\n",
       "      <td>22.1</td>\n",
       "    </tr>\n",
       "    <tr>\n",
       "      <th>1</th>\n",
       "      <td>44.5</td>\n",
       "      <td>39.3</td>\n",
       "      <td>45.1</td>\n",
       "      <td>10.4</td>\n",
       "    </tr>\n",
       "    <tr>\n",
       "      <th>2</th>\n",
       "      <td>17.2</td>\n",
       "      <td>45.9</td>\n",
       "      <td>69.3</td>\n",
       "      <td>9.3</td>\n",
       "    </tr>\n",
       "    <tr>\n",
       "      <th>3</th>\n",
       "      <td>151.5</td>\n",
       "      <td>41.3</td>\n",
       "      <td>58.5</td>\n",
       "      <td>18.5</td>\n",
       "    </tr>\n",
       "    <tr>\n",
       "      <th>4</th>\n",
       "      <td>180.8</td>\n",
       "      <td>10.8</td>\n",
       "      <td>58.4</td>\n",
       "      <td>12.9</td>\n",
       "    </tr>\n",
       "  </tbody>\n",
       "</table>\n",
       "</div>"
      ],
      "text/plain": [
       "   TV Ad Budget ($)  Radio Ad Budget ($)  Newspaper Ad Budget ($)  Sales ($)\n",
       "0             230.1                 37.8                     69.2       22.1\n",
       "1              44.5                 39.3                     45.1       10.4\n",
       "2              17.2                 45.9                     69.3        9.3\n",
       "3             151.5                 41.3                     58.5       18.5\n",
       "4             180.8                 10.8                     58.4       12.9"
      ]
     },
     "execution_count": 3,
     "metadata": {},
     "output_type": "execute_result"
    }
   ],
   "source": [
    "df.drop(\"Unnamed: 0\", axis=1, inplace=True)\n",
    "df.head()"
   ]
  },
  {
   "cell_type": "markdown",
   "id": "bb29696e",
   "metadata": {},
   "source": [
    "other columns are named with spaces in between so rename those columns"
   ]
  },
  {
   "cell_type": "code",
   "execution_count": 4,
   "id": "961c73a5",
   "metadata": {},
   "outputs": [
    {
     "data": {
      "application/vnd.microsoft.datawrangler.viewer.v0+json": {
       "columns": [
        {
         "name": "index",
         "rawType": "int64",
         "type": "integer"
        },
        {
         "name": "TV",
         "rawType": "float64",
         "type": "float"
        },
        {
         "name": "Radio",
         "rawType": "float64",
         "type": "float"
        },
        {
         "name": "Newspaper",
         "rawType": "float64",
         "type": "float"
        },
        {
         "name": "Sales",
         "rawType": "float64",
         "type": "float"
        }
       ],
       "ref": "96a1268d-6561-4341-906e-636444dc1cee",
       "rows": [
        [
         "0",
         "230.1",
         "37.8",
         "69.2",
         "22.1"
        ],
        [
         "1",
         "44.5",
         "39.3",
         "45.1",
         "10.4"
        ],
        [
         "2",
         "17.2",
         "45.9",
         "69.3",
         "9.3"
        ],
        [
         "3",
         "151.5",
         "41.3",
         "58.5",
         "18.5"
        ],
        [
         "4",
         "180.8",
         "10.8",
         "58.4",
         "12.9"
        ]
       ],
       "shape": {
        "columns": 4,
        "rows": 5
       }
      },
      "text/html": [
       "<div>\n",
       "<style scoped>\n",
       "    .dataframe tbody tr th:only-of-type {\n",
       "        vertical-align: middle;\n",
       "    }\n",
       "\n",
       "    .dataframe tbody tr th {\n",
       "        vertical-align: top;\n",
       "    }\n",
       "\n",
       "    .dataframe thead th {\n",
       "        text-align: right;\n",
       "    }\n",
       "</style>\n",
       "<table border=\"1\" class=\"dataframe\">\n",
       "  <thead>\n",
       "    <tr style=\"text-align: right;\">\n",
       "      <th></th>\n",
       "      <th>TV</th>\n",
       "      <th>Radio</th>\n",
       "      <th>Newspaper</th>\n",
       "      <th>Sales</th>\n",
       "    </tr>\n",
       "  </thead>\n",
       "  <tbody>\n",
       "    <tr>\n",
       "      <th>0</th>\n",
       "      <td>230.1</td>\n",
       "      <td>37.8</td>\n",
       "      <td>69.2</td>\n",
       "      <td>22.1</td>\n",
       "    </tr>\n",
       "    <tr>\n",
       "      <th>1</th>\n",
       "      <td>44.5</td>\n",
       "      <td>39.3</td>\n",
       "      <td>45.1</td>\n",
       "      <td>10.4</td>\n",
       "    </tr>\n",
       "    <tr>\n",
       "      <th>2</th>\n",
       "      <td>17.2</td>\n",
       "      <td>45.9</td>\n",
       "      <td>69.3</td>\n",
       "      <td>9.3</td>\n",
       "    </tr>\n",
       "    <tr>\n",
       "      <th>3</th>\n",
       "      <td>151.5</td>\n",
       "      <td>41.3</td>\n",
       "      <td>58.5</td>\n",
       "      <td>18.5</td>\n",
       "    </tr>\n",
       "    <tr>\n",
       "      <th>4</th>\n",
       "      <td>180.8</td>\n",
       "      <td>10.8</td>\n",
       "      <td>58.4</td>\n",
       "      <td>12.9</td>\n",
       "    </tr>\n",
       "  </tbody>\n",
       "</table>\n",
       "</div>"
      ],
      "text/plain": [
       "      TV  Radio  Newspaper  Sales\n",
       "0  230.1   37.8       69.2   22.1\n",
       "1   44.5   39.3       45.1   10.4\n",
       "2   17.2   45.9       69.3    9.3\n",
       "3  151.5   41.3       58.5   18.5\n",
       "4  180.8   10.8       58.4   12.9"
      ]
     },
     "execution_count": 4,
     "metadata": {},
     "output_type": "execute_result"
    }
   ],
   "source": [
    "# Adding the data to a different column\n",
    "df[\"TV\"] = df[\"TV Ad Budget ($)\"]\n",
    "df[\"Radio\"] = df[\"Radio Ad Budget ($)\"]\n",
    "df[\"Newspaper\"] = df[\"Newspaper Ad Budget ($)\"]\n",
    "df[\"Sales\"] = df[\"Sales ($)\"]\n",
    "df.drop(\n",
    "    columns=[\n",
    "        \"TV Ad Budget ($)\",\n",
    "        \"Newspaper Ad Budget ($)\",\n",
    "        \"Radio Ad Budget ($)\",\n",
    "        \"Sales ($)\",\n",
    "    ],\n",
    "    axis=1,\n",
    "    inplace=True,\n",
    ")\n",
    "df.head()"
   ]
  },
  {
   "cell_type": "code",
   "execution_count": 5,
   "id": "068bda4a",
   "metadata": {},
   "outputs": [
    {
     "name": "stdout",
     "output_type": "stream",
     "text": [
      "<class 'pandas.core.frame.DataFrame'>\n",
      "RangeIndex: 200 entries, 0 to 199\n",
      "Data columns (total 4 columns):\n",
      " #   Column     Non-Null Count  Dtype  \n",
      "---  ------     --------------  -----  \n",
      " 0   TV         200 non-null    float64\n",
      " 1   Radio      200 non-null    float64\n",
      " 2   Newspaper  200 non-null    float64\n",
      " 3   Sales      200 non-null    float64\n",
      "dtypes: float64(4)\n",
      "memory usage: 6.4 KB\n"
     ]
    }
   ],
   "source": [
    "df.info()"
   ]
  },
  {
   "cell_type": "code",
   "execution_count": 6,
   "id": "0cf0ad37",
   "metadata": {},
   "outputs": [
    {
     "data": {
      "application/vnd.microsoft.datawrangler.viewer.v0+json": {
       "columns": [
        {
         "name": "index",
         "rawType": "object",
         "type": "string"
        },
        {
         "name": "TV",
         "rawType": "float64",
         "type": "float"
        },
        {
         "name": "Radio",
         "rawType": "float64",
         "type": "float"
        },
        {
         "name": "Newspaper",
         "rawType": "float64",
         "type": "float"
        },
        {
         "name": "Sales",
         "rawType": "float64",
         "type": "float"
        }
       ],
       "ref": "92739d48-241b-43bc-aa26-9eece783d9aa",
       "rows": [
        [
         "count",
         "200.0",
         "200.0",
         "200.0",
         "200.0"
        ],
        [
         "mean",
         "147.0425",
         "23.264000000000006",
         "30.553999999999995",
         "14.0225"
        ],
        [
         "std",
         "85.85423631490808",
         "14.846809176168724",
         "21.778620838522826",
         "5.217456565710478"
        ],
        [
         "min",
         "0.7",
         "0.0",
         "0.3",
         "1.6"
        ],
        [
         "25%",
         "74.375",
         "9.975",
         "12.75",
         "10.375"
        ],
        [
         "50%",
         "149.75",
         "22.9",
         "25.75",
         "12.9"
        ],
        [
         "75%",
         "218.825",
         "36.525",
         "45.1",
         "17.4"
        ],
        [
         "max",
         "296.4",
         "49.6",
         "114.0",
         "27.0"
        ]
       ],
       "shape": {
        "columns": 4,
        "rows": 8
       }
      },
      "text/html": [
       "<div>\n",
       "<style scoped>\n",
       "    .dataframe tbody tr th:only-of-type {\n",
       "        vertical-align: middle;\n",
       "    }\n",
       "\n",
       "    .dataframe tbody tr th {\n",
       "        vertical-align: top;\n",
       "    }\n",
       "\n",
       "    .dataframe thead th {\n",
       "        text-align: right;\n",
       "    }\n",
       "</style>\n",
       "<table border=\"1\" class=\"dataframe\">\n",
       "  <thead>\n",
       "    <tr style=\"text-align: right;\">\n",
       "      <th></th>\n",
       "      <th>TV</th>\n",
       "      <th>Radio</th>\n",
       "      <th>Newspaper</th>\n",
       "      <th>Sales</th>\n",
       "    </tr>\n",
       "  </thead>\n",
       "  <tbody>\n",
       "    <tr>\n",
       "      <th>count</th>\n",
       "      <td>200.000000</td>\n",
       "      <td>200.000000</td>\n",
       "      <td>200.000000</td>\n",
       "      <td>200.000000</td>\n",
       "    </tr>\n",
       "    <tr>\n",
       "      <th>mean</th>\n",
       "      <td>147.042500</td>\n",
       "      <td>23.264000</td>\n",
       "      <td>30.554000</td>\n",
       "      <td>14.022500</td>\n",
       "    </tr>\n",
       "    <tr>\n",
       "      <th>std</th>\n",
       "      <td>85.854236</td>\n",
       "      <td>14.846809</td>\n",
       "      <td>21.778621</td>\n",
       "      <td>5.217457</td>\n",
       "    </tr>\n",
       "    <tr>\n",
       "      <th>min</th>\n",
       "      <td>0.700000</td>\n",
       "      <td>0.000000</td>\n",
       "      <td>0.300000</td>\n",
       "      <td>1.600000</td>\n",
       "    </tr>\n",
       "    <tr>\n",
       "      <th>25%</th>\n",
       "      <td>74.375000</td>\n",
       "      <td>9.975000</td>\n",
       "      <td>12.750000</td>\n",
       "      <td>10.375000</td>\n",
       "    </tr>\n",
       "    <tr>\n",
       "      <th>50%</th>\n",
       "      <td>149.750000</td>\n",
       "      <td>22.900000</td>\n",
       "      <td>25.750000</td>\n",
       "      <td>12.900000</td>\n",
       "    </tr>\n",
       "    <tr>\n",
       "      <th>75%</th>\n",
       "      <td>218.825000</td>\n",
       "      <td>36.525000</td>\n",
       "      <td>45.100000</td>\n",
       "      <td>17.400000</td>\n",
       "    </tr>\n",
       "    <tr>\n",
       "      <th>max</th>\n",
       "      <td>296.400000</td>\n",
       "      <td>49.600000</td>\n",
       "      <td>114.000000</td>\n",
       "      <td>27.000000</td>\n",
       "    </tr>\n",
       "  </tbody>\n",
       "</table>\n",
       "</div>"
      ],
      "text/plain": [
       "               TV       Radio   Newspaper       Sales\n",
       "count  200.000000  200.000000  200.000000  200.000000\n",
       "mean   147.042500   23.264000   30.554000   14.022500\n",
       "std     85.854236   14.846809   21.778621    5.217457\n",
       "min      0.700000    0.000000    0.300000    1.600000\n",
       "25%     74.375000    9.975000   12.750000   10.375000\n",
       "50%    149.750000   22.900000   25.750000   12.900000\n",
       "75%    218.825000   36.525000   45.100000   17.400000\n",
       "max    296.400000   49.600000  114.000000   27.000000"
      ]
     },
     "execution_count": 6,
     "metadata": {},
     "output_type": "execute_result"
    }
   ],
   "source": [
    "df.describe()"
   ]
  },
  {
   "cell_type": "markdown",
   "id": "7ae317ea",
   "metadata": {},
   "source": [
    "## Exploratory Data Analysis"
   ]
  },
  {
   "cell_type": "code",
   "execution_count": 7,
   "id": "c3925009",
   "metadata": {},
   "outputs": [],
   "source": [
    "# get boxplot and histogram\n",
    "\n",
    "def BoxAndHist(col, plot_title=None):\n",
    "    plt.figure(figsize=(12, 5))\n",
    "\n",
    "    hist_title = f\"Histogram of {plot_title}\" if plot_title else \"Histogram\"\n",
    "    box_title = f\"Boxplot of {plot_title}\" if plot_title else \"Boxplot\"\n",
    "\n",
    "    # Histogram\n",
    "    plt.subplot(1, 2, 1)\n",
    "    plt.hist(col, bins=20, color=\"skyblue\", edgecolor=\"black\")\n",
    "    plt.title(hist_title)\n",
    "\n",
    "    # Boxplot\n",
    "    plt.subplot(1, 2, 2)\n",
    "    plt.boxplot(col, vert=False)\n",
    "    plt.title(box_title)\n",
    "\n",
    "    plt.tight_layout()\n",
    "    plt.show()"
   ]
  },
  {
   "cell_type": "code",
   "execution_count": 8,
   "id": "af4ff218",
   "metadata": {},
   "outputs": [
    {
     "data": {
      "image/png": "[encoded data removed]",
      "text/plain": [
       "<Figure size 1200x500 with 2 Axes>"
      ]
     },
     "metadata": {},
     "output_type": "display_data"
    }
   ],
   "source": [
    "BoxAndHist(df['TV'],\"TV\")"
   ]
  },
  {
   "cell_type": "code",
   "execution_count": 9,
   "id": "abb78831",
   "metadata": {},
   "outputs": [
    {
     "data": {
      "image/png": "[encoded data removed]",
      "text/plain": [
       "<Figure size 1200x500 with 2 Axes>"
      ]
     },
     "metadata": {},
     "output_type": "display_data"
    }
   ],
   "source": [
    "BoxAndHist(df['Newspaper'], \"Newspaper\")"
   ]
  },
  {
   "cell_type": "code",
   "execution_count": 10,
   "id": "e3bcdbc3",
   "metadata": {},
   "outputs": [
    {
     "data": {
      "image/png": "[encoded data removed]",
      "text/plain": [
       "<Figure size 1200x500 with 2 Axes>"
      ]
     },
     "metadata": {},
     "output_type": "display_data"
    }
   ],
   "source": [
    "BoxAndHist(df['Radio'], \"Radio\")"
   ]
  },
  {
   "cell_type": "code",
   "execution_count": 11,
   "id": "9afc2777",
   "metadata": {},
   "outputs": [
    {
     "data": {
      "image/png": "[encoded data removed]",
      "text/plain": [
       "<Figure size 1200x500 with 2 Axes>"
      ]
     },
     "metadata": {},
     "output_type": "display_data"
    }
   ],
   "source": [
    "BoxAndHist(df['Sales'], \"Sales\")"
   ]
  },
  {
   "cell_type": "markdown",
   "id": "ec29a17a",
   "metadata": {},
   "source": [
    "Only newspaper budget has outliers"
   ]
  },
  {
   "cell_type": "markdown",
   "id": "c34fe91d",
   "metadata": {},
   "source": [
    "Let's remove the outliers"
   ]
  },
  {
   "cell_type": "code",
   "execution_count": 12,
   "id": "df4f1cbb",
   "metadata": {},
   "outputs": [],
   "source": [
    "def remove_outliers_df(df):\n",
    "    cleaned_df = df.copy(deep=True)\n",
    "\n",
    "    for col in df.select_dtypes(include=\"number\").columns:\n",
    "        Q1 = df[col].quantile(0.25)\n",
    "        Q3 = df[col].quantile(0.75)\n",
    "        IQR = Q3 - Q1\n",
    "\n",
    "        lower_bound = Q1 - 1.5 * IQR\n",
    "        upper_bound = Q3 + 1.5 * IQR\n",
    "\n",
    "        # Only keep rows within bounds\n",
    "        cleaned_df = cleaned_df[\n",
    "            (cleaned_df[col] >= lower_bound) & (cleaned_df[col] <= upper_bound)\n",
    "        ]\n",
    "\n",
    "    return cleaned_df"
   ]
  },
  {
   "cell_type": "code",
   "execution_count": 13,
   "id": "1554489b",
   "metadata": {},
   "outputs": [],
   "source": [
    "cleaned_df = remove_outliers_df(df)"
   ]
  },
  {
   "cell_type": "code",
   "execution_count": 14,
   "id": "3bd47ec6",
   "metadata": {},
   "outputs": [
    {
     "data": {
      "application/vnd.microsoft.datawrangler.viewer.v0+json": {
       "columns": [
        {
         "name": "index",
         "rawType": "int64",
         "type": "integer"
        },
        {
         "name": "TV",
         "rawType": "float64",
         "type": "float"
        },
        {
         "name": "Radio",
         "rawType": "float64",
         "type": "float"
        },
        {
         "name": "Newspaper",
         "rawType": "float64",
         "type": "float"
        },
        {
         "name": "Sales",
         "rawType": "float64",
         "type": "float"
        }
       ],
       "ref": "e9e4c6f1-3a4e-4922-aaca-02182226635f",
       "rows": [
        [
         "0",
         "230.1",
         "37.8",
         "69.2",
         "22.1"
        ],
        [
         "1",
         "44.5",
         "39.3",
         "45.1",
         "10.4"
        ],
        [
         "2",
         "17.2",
         "45.9",
         "69.3",
         "9.3"
        ],
        [
         "3",
         "151.5",
         "41.3",
         "58.5",
         "18.5"
        ],
        [
         "4",
         "180.8",
         "10.8",
         "58.4",
         "12.9"
        ]
       ],
       "shape": {
        "columns": 4,
        "rows": 5
       }
      },
      "text/html": [
       "<div>\n",
       "<style scoped>\n",
       "    .dataframe tbody tr th:only-of-type {\n",
       "        vertical-align: middle;\n",
       "    }\n",
       "\n",
       "    .dataframe tbody tr th {\n",
       "        vertical-align: top;\n",
       "    }\n",
       "\n",
       "    .dataframe thead th {\n",
       "        text-align: right;\n",
       "    }\n",
       "</style>\n",
       "<table border=\"1\" class=\"dataframe\">\n",
       "  <thead>\n",
       "    <tr style=\"text-align: right;\">\n",
       "      <th></th>\n",
       "      <th>TV</th>\n",
       "      <th>Radio</th>\n",
       "      <th>Newspaper</th>\n",
       "      <th>Sales</th>\n",
       "    </tr>\n",
       "  </thead>\n",
       "  <tbody>\n",
       "    <tr>\n",
       "      <th>0</th>\n",
       "      <td>230.1</td>\n",
       "      <td>37.8</td>\n",
       "      <td>69.2</td>\n",
       "      <td>22.1</td>\n",
       "    </tr>\n",
       "    <tr>\n",
       "      <th>1</th>\n",
       "      <td>44.5</td>\n",
       "      <td>39.3</td>\n",
       "      <td>45.1</td>\n",
       "      <td>10.4</td>\n",
       "    </tr>\n",
       "    <tr>\n",
       "      <th>2</th>\n",
       "      <td>17.2</td>\n",
       "      <td>45.9</td>\n",
       "      <td>69.3</td>\n",
       "      <td>9.3</td>\n",
       "    </tr>\n",
       "    <tr>\n",
       "      <th>3</th>\n",
       "      <td>151.5</td>\n",
       "      <td>41.3</td>\n",
       "      <td>58.5</td>\n",
       "      <td>18.5</td>\n",
       "    </tr>\n",
       "    <tr>\n",
       "      <th>4</th>\n",
       "      <td>180.8</td>\n",
       "      <td>10.8</td>\n",
       "      <td>58.4</td>\n",
       "      <td>12.9</td>\n",
       "    </tr>\n",
       "  </tbody>\n",
       "</table>\n",
       "</div>"
      ],
      "text/plain": [
       "      TV  Radio  Newspaper  Sales\n",
       "0  230.1   37.8       69.2   22.1\n",
       "1   44.5   39.3       45.1   10.4\n",
       "2   17.2   45.9       69.3    9.3\n",
       "3  151.5   41.3       58.5   18.5\n",
       "4  180.8   10.8       58.4   12.9"
      ]
     },
     "execution_count": 14,
     "metadata": {},
     "output_type": "execute_result"
    }
   ],
   "source": [
    "cleaned_df.head()"
   ]
  },
  {
   "cell_type": "code",
   "execution_count": 15,
   "id": "b49a0126",
   "metadata": {},
   "outputs": [
    {
     "data": {
      "text/plain": [
       "(198, 4)"
      ]
     },
     "execution_count": 15,
     "metadata": {},
     "output_type": "execute_result"
    }
   ],
   "source": [
    "cleaned_df.shape"
   ]
  },
  {
   "cell_type": "code",
   "execution_count": 16,
   "id": "1602def2",
   "metadata": {},
   "outputs": [
    {
     "data": {
      "image/png": "[encoded data removed]",
      "text/plain": [
       "<Figure size 1500x500 with 4 Axes>"
      ]
     },
     "metadata": {},
     "output_type": "display_data"
    }
   ],
   "source": [
    "plt.figure(figsize=(15,5))\n",
    "plt.subplot(1,2,1)\n",
    "sns.heatmap(df.corr(), annot=True, cmap='coolwarm')\n",
    "plt.title(\"Raw dataset Correlation\")\n",
    "plt.subplot(1,2,2)\n",
    "sns.heatmap(cleaned_df.corr(), annot=True)\n",
    "plt.title(\"Cleaned dataset Correlation\")\n",
    "plt.show()"
   ]
  },
  {
   "cell_type": "markdown",
   "id": "a2c99fa3",
   "metadata": {},
   "source": [
    "### Conclusion:\n",
    "\n",
    "- From the heatmap and shape of the cleaned dataset, we can say that removing the outliers isn't affecting correlation and output at all \n",
    "- Every column is correlated so we don't need to remove any"
   ]
  },
  {
   "cell_type": "markdown",
   "id": "56167aee",
   "metadata": {},
   "source": [
    "## Model Training"
   ]
  },
  {
   "cell_type": "code",
   "execution_count": 17,
   "id": "0f73ac85",
   "metadata": {},
   "outputs": [],
   "source": [
    "# Feature and Target Variable selcetion\n",
    "X = df.drop('Sales', axis=1)\n",
    "y = df['Sales']\n",
    "\n",
    "X_cleaned = cleaned_df.drop('Sales', axis=1)\n",
    "y_cleaned = cleaned_df['Sales']"
   ]
  },
  {
   "cell_type": "code",
   "execution_count": 18,
   "id": "5554c84f",
   "metadata": {},
   "outputs": [],
   "source": [
    "X_train, X_test, y_train, y_test = train_test_split(X, y, random_state=42)\n",
    "X_cleaned_train, X_cleaned_test, y_cleaned_train, y_cleaned_test = train_test_split(\n",
    "    X_cleaned, y_cleaned, random_state=42\n",
    ")"
   ]
  },
  {
   "cell_type": "code",
   "execution_count": 19,
   "id": "9c6196fb",
   "metadata": {},
   "outputs": [],
   "source": [
    "sc1 = StandardScaler()\n",
    "sc2 = StandardScaler()\n",
    "\n",
    "X_scaled_train = sc1.fit_transform(X_train)\n",
    "X_scaled_test = sc1.transform(X_test)\n",
    "\n",
    "X_cleaned_scaled_train = sc2.fit_transform(X_cleaned_train)\n",
    "X_cleaned_scaled_test = sc2.transform(X_cleaned_test)"
   ]
  },
  {
   "cell_type": "code",
   "execution_count": 20,
   "id": "0dc8daad",
   "metadata": {},
   "outputs": [
    {
     "name": "stdout",
     "output_type": "stream",
     "text": [
      "r2 score for Raw data: 0.8935163320163658\n",
      "MSE for Raw data: 2.880023730094191\n",
      "MAE for Raw data: 1.4023124989385067\n"
     ]
    }
   ],
   "source": [
    "# For Raw Data\n",
    "\n",
    "lr = LinearRegression()\n",
    "lr.fit(X_train, y_train)\n",
    "y_pred = lr.predict(X_test)\n",
    "\n",
    "raw_r2 = r2_score(y_test, y_pred)\n",
    "raw_mse = mean_squared_error(y_test, y_pred)\n",
    "raw_mae = mean_absolute_error(y_test, y_pred)\n",
    "\n",
    "print(f\"r2 score for Raw data: {raw_r2}\")\n",
    "print(f\"MSE for Raw data: {raw_mse}\")\n",
    "print(f\"MAE for Raw data: {raw_mae}\")"
   ]
  },
  {
   "cell_type": "code",
   "execution_count": 21,
   "id": "559a24b4",
   "metadata": {},
   "outputs": [
    {
     "name": "stdout",
     "output_type": "stream",
     "text": [
      "r2 score for Scaled data: 0.8935163320163659\n",
      "MSE for Scaled data: 2.88002373009419\n",
      "MAE for Scaled data: 1.402312498938506\n"
     ]
    }
   ],
   "source": [
    "# For Scaled Data\n",
    "\n",
    "lr = LinearRegression()\n",
    "lr.fit(X_scaled_train, y_train)\n",
    "y_pred = lr.predict(X_scaled_test)\n",
    "\n",
    "scaled_r2 = r2_score(y_test, y_pred)\n",
    "scaled_mse = mean_squared_error(y_test, y_pred)\n",
    "scaled_mae = mean_absolute_error(y_test, y_pred)\n",
    "\n",
    "print(f\"r2 score for Scaled data: {scaled_r2}\")\n",
    "print(f\"MSE for Scaled data: {scaled_mse}\")\n",
    "print(f\"MAE for Scaled data: {scaled_mae}\")"
   ]
  },
  {
   "cell_type": "code",
   "execution_count": 22,
   "id": "ffb6a70f",
   "metadata": {},
   "outputs": [
    {
     "name": "stdout",
     "output_type": "stream",
     "text": [
      "r2 score for Cleaned data: 0.8798818054597368\n",
      "MSE for Cleaned data: 3.4546804748774798\n",
      "MAE for Cleaned data: 1.370015830296171\n"
     ]
    }
   ],
   "source": [
    "# For cleaned Data\n",
    "\n",
    "lr = LinearRegression()\n",
    "lr.fit(X_cleaned_train, y_cleaned_train)\n",
    "y_pred = lr.predict(X_cleaned_test)\n",
    "\n",
    "cleaned_r2=r2_score(y_cleaned_test, y_pred)\n",
    "cleaned_mse = mean_squared_error(y_cleaned_test, y_pred)\n",
    "cleaned_mae = mean_absolute_error(y_cleaned_test, y_pred)\n",
    "print(f\"r2 score for Cleaned data: {cleaned_r2}\")\n",
    "\n",
    "print(f\"MSE for Cleaned data: {cleaned_mse}\")\n",
    "print(f\"MAE for Cleaned data: {cleaned_mae}\")"
   ]
  },
  {
   "cell_type": "code",
   "execution_count": 23,
   "id": "d93af71b",
   "metadata": {},
   "outputs": [
    {
     "name": "stdout",
     "output_type": "stream",
     "text": [
      "r2 score for Cleaned Scaled data: 0.8798818054597369\n",
      "MSE for Cleaned Scaled data: 3.454680474877475\n",
      "MAE for Cleaned Scaled data: 1.3700158302961694\n"
     ]
    }
   ],
   "source": [
    "# For cleaned & scaled Data\n",
    "\n",
    "lr = LinearRegression()\n",
    "lr.fit(X_cleaned_scaled_train, y_cleaned_train)\n",
    "y_pred = lr.predict(X_cleaned_scaled_test)\n",
    "\n",
    "cleaned_scaled_r2 = r2_score(y_cleaned_test, y_pred)\n",
    "cleaned_scaled_mse = mean_squared_error(y_cleaned_test, y_pred)\n",
    "cleaned_scaled_mae = mean_absolute_error(y_cleaned_test, y_pred)\n",
    "\n",
    "print(f\"r2 score for Cleaned Scaled data: {cleaned_scaled_r2}\")\n",
    "print(f\"MSE for Cleaned Scaled data: {cleaned_scaled_mse}\")\n",
    "print(f\"MAE for Cleaned Scaled data: {cleaned_scaled_mae}\")"
   ]
  },
  {
   "cell_type": "code",
   "execution_count": 26,
   "id": "5ddf64c6",
   "metadata": {},
   "outputs": [
    {
     "data": {
      "application/vnd.microsoft.datawrangler.viewer.v0+json": {
       "columns": [
        {
         "name": "index",
         "rawType": "int64",
         "type": "integer"
        },
        {
         "name": "Dataset",
         "rawType": "object",
         "type": "string"
        },
        {
         "name": "R2 Score",
         "rawType": "float64",
         "type": "float"
        },
        {
         "name": "MSE",
         "rawType": "float64",
         "type": "float"
        },
        {
         "name": "MAE",
         "rawType": "float64",
         "type": "float"
        }
       ],
       "ref": "ab392063-422a-4323-b302-5f0f0b65d73a",
       "rows": [
        [
         "0",
         "Raw",
         "0.8935163320163658",
         "2.880023730094191",
         "1.4023124989385067"
        ],
        [
         "1",
         "Scaled",
         "0.8935163320163659",
         "2.88002373009419",
         "1.402312498938506"
        ],
        [
         "2",
         "Cleaned",
         "0.8798818054597368",
         "3.4546804748774798",
         "1.370015830296171"
        ],
        [
         "3",
         "Cleaned + Scaled",
         "0.8798818054597369",
         "3.454680474877475",
         "1.3700158302961694"
        ]
       ],
       "shape": {
        "columns": 4,
        "rows": 4
       }
      },
      "text/html": [
       "<div>\n",
       "<style scoped>\n",
       "    .dataframe tbody tr th:only-of-type {\n",
       "        vertical-align: middle;\n",
       "    }\n",
       "\n",
       "    .dataframe tbody tr th {\n",
       "        vertical-align: top;\n",
       "    }\n",
       "\n",
       "    .dataframe thead th {\n",
       "        text-align: right;\n",
       "    }\n",
       "</style>\n",
       "<table border=\"1\" class=\"dataframe\">\n",
       "  <thead>\n",
       "    <tr style=\"text-align: right;\">\n",
       "      <th></th>\n",
       "      <th>Dataset</th>\n",
       "      <th>R2 Score</th>\n",
       "      <th>MSE</th>\n",
       "      <th>MAE</th>\n",
       "    </tr>\n",
       "  </thead>\n",
       "  <tbody>\n",
       "    <tr>\n",
       "      <th>0</th>\n",
       "      <td>Raw</td>\n",
       "      <td>0.893516</td>\n",
       "      <td>2.880024</td>\n",
       "      <td>1.402312</td>\n",
       "    </tr>\n",
       "    <tr>\n",
       "      <th>1</th>\n",
       "      <td>Scaled</td>\n",
       "      <td>0.893516</td>\n",
       "      <td>2.880024</td>\n",
       "      <td>1.402312</td>\n",
       "    </tr>\n",
       "    <tr>\n",
       "      <th>2</th>\n",
       "      <td>Cleaned</td>\n",
       "      <td>0.879882</td>\n",
       "      <td>3.454680</td>\n",
       "      <td>1.370016</td>\n",
       "    </tr>\n",
       "    <tr>\n",
       "      <th>3</th>\n",
       "      <td>Cleaned + Scaled</td>\n",
       "      <td>0.879882</td>\n",
       "      <td>3.454680</td>\n",
       "      <td>1.370016</td>\n",
       "    </tr>\n",
       "  </tbody>\n",
       "</table>\n",
       "</div>"
      ],
      "text/plain": [
       "            Dataset  R2 Score       MSE       MAE\n",
       "0               Raw  0.893516  2.880024  1.402312\n",
       "1            Scaled  0.893516  2.880024  1.402312\n",
       "2           Cleaned  0.879882  3.454680  1.370016\n",
       "3  Cleaned + Scaled  0.879882  3.454680  1.370016"
      ]
     },
     "execution_count": 26,
     "metadata": {},
     "output_type": "execute_result"
    }
   ],
   "source": [
    "results = {\n",
    "    \"Dataset\": [\"Raw\", \"Scaled\", \"Cleaned\", \"Cleaned + Scaled\"],\n",
    "    \"R2 Score\": [raw_r2, scaled_r2, cleaned_r2, cleaned_scaled_r2],\n",
    "    \"MSE\": [raw_mse, scaled_mse, cleaned_mse, cleaned_scaled_mse],\n",
    "    \"MAE\": [raw_mae, scaled_mae, cleaned_mae, cleaned_scaled_mae],\n",
    "}\n",
    "\n",
    "metrics_df = pd.DataFrame(results)\n",
    "\n",
    "metrics_df"
   ]
  },
  {
   "cell_type": "code",
   "execution_count": 27,
   "id": "c94ef932",
   "metadata": {},
   "outputs": [
    {
     "data": {
      "image/png": "[encoded data removed]",
      "text/plain": [
       "<Figure size 1000x600 with 1 Axes>"
      ]
     },
     "metadata": {},
     "output_type": "display_data"
    }
   ],
   "source": [
    "# Define metrics and dataset labels\n",
    "labels = metrics_df[\"Dataset\"]\n",
    "r2 = metrics_df[\"R2 Score\"]\n",
    "mse = metrics_df[\"MSE\"]\n",
    "mae = metrics_df[\"MAE\"]\n",
    "\n",
    "x = np.arange(len(labels))  # label locations\n",
    "width = 0.25  # width of the bars\n",
    "\n",
    "# Plot\n",
    "plt.figure(figsize=(10, 6))\n",
    "plt.bar(x - width, r2, width, label=\"R2 Score\")\n",
    "plt.bar(x, mse, width, label=\"MSE\")\n",
    "plt.bar(x + width, mae, width, label=\"MAE\")\n",
    "\n",
    "# Labeling\n",
    "plt.xlabel(\"Dataset Type\")\n",
    "plt.ylabel(\"Metric Value\")\n",
    "plt.title(\"Model Evaluation Metrics\")\n",
    "plt.xticks(x, labels)\n",
    "plt.legend()\n",
    "plt.tight_layout()\n",
    "plt.grid(axis=\"y\", linestyle=\"--\", alpha=0.5)\n",
    "\n",
    "plt.show()"
   ]
  },
  {
   "cell_type": "markdown",
   "id": "3ecec3c8",
   "metadata": {},
   "source": [
    "## Final Conclusion on Model Performance (Linear Regression)\n",
    "\n",
    "From the grouped bar chart and metric values:\n",
    "\n",
    "- **Scaling alone** (`Raw → Scaled`) had **little to no effect** — which is expected, as Linear Regression is not highly sensitive to feature scale when it comes to predictive accuracy (though it affects the coefficient values).\n",
    "\n",
    "- **Cleaning the data (removing outliers)** had a **significant positive impact**:\n",
    "  - **MSE** and **MAE** decreased, meaning the model made fewer large errors.\n",
    "  - **R²** remained stable, indicating the model explains a similar proportion of variance but does so more accurately.\n",
    "\n",
    "- **Combining Cleaning + Scaling** did **not lead to further significant improvement** over cleaning alone — again aligning with the behavior of Linear Regression.\n",
    "\n",
    "---\n",
    "\n",
    "### Final Verdict:\n",
    "> **Removing outliers** provided the most meaningful performance gain. **Feature scaling was not necessary** in this case but could be important for models like SVM, KNN, or Neural Networks.\n"
   ]
  }
 ],
 "metadata": {
  "language_info": {
   "name": "python"
  }
 },
 "nbformat": 4,
 "nbformat_minor": 5
}
